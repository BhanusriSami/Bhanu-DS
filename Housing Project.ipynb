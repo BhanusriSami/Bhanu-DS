{
 "cells": [
  {
   "cell_type": "markdown",
   "id": "fa1239c0",
   "metadata": {},
   "source": [
    "# California Housing Price Prediction "
   ]
  },
  {
   "cell_type": "markdown",
   "id": "5615b695",
   "metadata": {},
   "source": [
    "### Problem Objective :\n",
    "\n",
    "The project aims at building a model of housing prices to predict median house values in California using the provided dataset. This model should learn from the data and be able to predict the median housing price in any district, given all the other metrics.\n",
    "\n",
    "Districts or block groups are the smallest geographical units for which the US Census Bureau\n",
    "publishes sample data (a block group typically has a population of 600 to 3,000 people). There are 20,640 districts in the project dataset."
   ]
  },
  {
   "cell_type": "markdown",
   "id": "3ee4db48",
   "metadata": {},
   "source": [
    "### Data Description : "
   ]
  },
  {
   "cell_type": "markdown",
   "id": "95fded0c",
   "metadata": {},
   "source": [
    "\n",
    "\n",
    "    \n",
    "<ol>         \n",
    "<h4>Field and Description </h4>\n",
    "<li>longitude\t(signed numeric-float)       : Longitude value for the block in California, USA</li>\n",
    "<li>latitude\t(numeric-float )             : Latitude value for the block in California, USA </li>\n",
    "<li>housing_median_age\t(numeric-int )       : Median age of the house in the block</li>\n",
    "<li>total_rooms\t(numeric-int )               : Count of the total number of rooms (excluding bedrooms) in all houses in the block</li>\n",
    "<li>total_bedrooms\t(numeric-float )         : Count of the total number of bedrooms in all houses in the block</li>\n",
    "<li>population\t(numeric-int )               : Count of the total number of population in the block</li>\n",
    "<li>households\t(numeric-int )               : Count of the total number of households in the block</li>\n",
    "<li>median_income\t(numeric-float )         : Median of the total household income of all the houses in the block</li>\n",
    "<li>ocean_proximity\t(numeric-categorical )   : Type of the landscape of the block['NEAR BAY','<1H OCEAN','INLAND','NEAR OCEAN','ISLAND']      </li>\n",
    "<li>median_house_value\t(numeric - int )       : Median of the household prices of all the houses in the block </li>\n",
    "</ol>"
   ]
  },
  {
   "cell_type": "code",
   "execution_count": 166,
   "id": "a781c9aa",
   "metadata": {},
   "outputs": [],
   "source": [
    "# Importing all the necessary packages . \n",
    "import pandas as pd\n",
    "import os\n",
    "import numpy as np\n",
    "from sklearn.preprocessing import MinMaxScaler\n",
    "from sklearn.preprocessing import StandardScaler\n",
    "from sklearn.model_selection import train_test_split\n",
    "from sklearn.linear_model import LinearRegression\n",
    "from sklearn.metrics import mean_squared_error \n",
    "import matplotlib.pyplot as plt"
   ]
  },
  {
   "cell_type": "code",
   "execution_count": 125,
   "id": "72ebb405",
   "metadata": {},
   "outputs": [
    {
     "name": "stdout",
     "output_type": "stream",
     "text": [
      "C:\\Users\\Bhanusri\\Desktop\\Bhanu DS\\DS with Python\\project1\n"
     ]
    }
   ],
   "source": [
    "### Geting the path of current working directory\n",
    "\n",
    "currdir=os.getcwd()\n",
    "print(currdir)"
   ]
  },
  {
   "cell_type": "code",
   "execution_count": 126,
   "id": "7b759998",
   "metadata": {
    "scrolled": true
   },
   "outputs": [
    {
     "name": "stdout",
     "output_type": "stream",
     "text": [
      "['.ipynb_checkpoints', 'Housing Project.ipynb', 'housing.xlsx']\n"
     ]
    }
   ],
   "source": [
    "###Checking whether the required datafile is present in the Current directory.\n",
    "\n",
    "print(os.listdir(os.getcwd()))"
   ]
  },
  {
   "cell_type": "markdown",
   "id": "e31f1d26",
   "metadata": {},
   "source": [
    "###  TASK1: Load the data"
   ]
  },
  {
   "cell_type": "code",
   "execution_count": 127,
   "id": "ad8868c2",
   "metadata": {},
   "outputs": [],
   "source": [
    "### Reading data from input data file and storing it into a Dataframe\n",
    "\n",
    "currfile = currdir + '\\housing.xlsx'\n",
    "##df=pd.read_excel(r\"C:\\Users\\Bhanusri\\Desktop\\Bhanu DS\\DS with Python\\project1\\housing.xlsx\")\n",
    "df=pd.read_excel(currfile)"
   ]
  },
  {
   "cell_type": "code",
   "execution_count": 128,
   "id": "008333ab",
   "metadata": {},
   "outputs": [
    {
     "data": {
      "text/html": [
       "<div>\n",
       "<style scoped>\n",
       "    .dataframe tbody tr th:only-of-type {\n",
       "        vertical-align: middle;\n",
       "    }\n",
       "\n",
       "    .dataframe tbody tr th {\n",
       "        vertical-align: top;\n",
       "    }\n",
       "\n",
       "    .dataframe thead th {\n",
       "        text-align: right;\n",
       "    }\n",
       "</style>\n",
       "<table border=\"1\" class=\"dataframe\">\n",
       "  <thead>\n",
       "    <tr style=\"text-align: right;\">\n",
       "      <th></th>\n",
       "      <th>longitude</th>\n",
       "      <th>latitude</th>\n",
       "      <th>housing_median_age</th>\n",
       "      <th>total_rooms</th>\n",
       "      <th>total_bedrooms</th>\n",
       "      <th>population</th>\n",
       "      <th>households</th>\n",
       "      <th>median_income</th>\n",
       "      <th>ocean_proximity</th>\n",
       "      <th>median_house_value</th>\n",
       "    </tr>\n",
       "  </thead>\n",
       "  <tbody>\n",
       "    <tr>\n",
       "      <th>0</th>\n",
       "      <td>-122.23</td>\n",
       "      <td>37.88</td>\n",
       "      <td>41</td>\n",
       "      <td>880</td>\n",
       "      <td>129.0</td>\n",
       "      <td>322</td>\n",
       "      <td>126</td>\n",
       "      <td>8.3252</td>\n",
       "      <td>NEAR BAY</td>\n",
       "      <td>452600</td>\n",
       "    </tr>\n",
       "    <tr>\n",
       "      <th>1</th>\n",
       "      <td>-122.22</td>\n",
       "      <td>37.86</td>\n",
       "      <td>21</td>\n",
       "      <td>7099</td>\n",
       "      <td>1106.0</td>\n",
       "      <td>2401</td>\n",
       "      <td>1138</td>\n",
       "      <td>8.3014</td>\n",
       "      <td>NEAR BAY</td>\n",
       "      <td>358500</td>\n",
       "    </tr>\n",
       "    <tr>\n",
       "      <th>2</th>\n",
       "      <td>-122.24</td>\n",
       "      <td>37.85</td>\n",
       "      <td>52</td>\n",
       "      <td>1467</td>\n",
       "      <td>190.0</td>\n",
       "      <td>496</td>\n",
       "      <td>177</td>\n",
       "      <td>7.2574</td>\n",
       "      <td>NEAR BAY</td>\n",
       "      <td>352100</td>\n",
       "    </tr>\n",
       "    <tr>\n",
       "      <th>3</th>\n",
       "      <td>-122.25</td>\n",
       "      <td>37.85</td>\n",
       "      <td>52</td>\n",
       "      <td>1274</td>\n",
       "      <td>235.0</td>\n",
       "      <td>558</td>\n",
       "      <td>219</td>\n",
       "      <td>5.6431</td>\n",
       "      <td>NEAR BAY</td>\n",
       "      <td>341300</td>\n",
       "    </tr>\n",
       "    <tr>\n",
       "      <th>4</th>\n",
       "      <td>-122.25</td>\n",
       "      <td>37.85</td>\n",
       "      <td>52</td>\n",
       "      <td>1627</td>\n",
       "      <td>280.0</td>\n",
       "      <td>565</td>\n",
       "      <td>259</td>\n",
       "      <td>3.8462</td>\n",
       "      <td>NEAR BAY</td>\n",
       "      <td>342200</td>\n",
       "    </tr>\n",
       "  </tbody>\n",
       "</table>\n",
       "</div>"
      ],
      "text/plain": [
       "   longitude  latitude  housing_median_age  total_rooms  total_bedrooms  \\\n",
       "0    -122.23     37.88                  41          880           129.0   \n",
       "1    -122.22     37.86                  21         7099          1106.0   \n",
       "2    -122.24     37.85                  52         1467           190.0   \n",
       "3    -122.25     37.85                  52         1274           235.0   \n",
       "4    -122.25     37.85                  52         1627           280.0   \n",
       "\n",
       "   population  households  median_income ocean_proximity  median_house_value  \n",
       "0         322         126         8.3252        NEAR BAY              452600  \n",
       "1        2401        1138         8.3014        NEAR BAY              358500  \n",
       "2         496         177         7.2574        NEAR BAY              352100  \n",
       "3         558         219         5.6431        NEAR BAY              341300  \n",
       "4         565         259         3.8462        NEAR BAY              342200  "
      ]
     },
     "execution_count": 128,
     "metadata": {},
     "output_type": "execute_result"
    }
   ],
   "source": [
    "###Viewing the first five records of the Dataframe . \n",
    "\n",
    "df.head()"
   ]
  },
  {
   "cell_type": "code",
   "execution_count": 129,
   "id": "924aafe4",
   "metadata": {},
   "outputs": [
    {
     "data": {
      "text/plain": [
       "(20640, 10)"
      ]
     },
     "execution_count": 129,
     "metadata": {},
     "output_type": "execute_result"
    }
   ],
   "source": [
    "##Checking the shape of the Dataframe created. \n",
    "\n",
    "df.shape"
   ]
  },
  {
   "cell_type": "code",
   "execution_count": 130,
   "id": "91b65d95",
   "metadata": {},
   "outputs": [
    {
     "data": {
      "text/html": [
       "<div>\n",
       "<style scoped>\n",
       "    .dataframe tbody tr th:only-of-type {\n",
       "        vertical-align: middle;\n",
       "    }\n",
       "\n",
       "    .dataframe tbody tr th {\n",
       "        vertical-align: top;\n",
       "    }\n",
       "\n",
       "    .dataframe thead th {\n",
       "        text-align: right;\n",
       "    }\n",
       "</style>\n",
       "<table border=\"1\" class=\"dataframe\">\n",
       "  <thead>\n",
       "    <tr style=\"text-align: right;\">\n",
       "      <th></th>\n",
       "      <th>longitude</th>\n",
       "      <th>latitude</th>\n",
       "      <th>housing_median_age</th>\n",
       "      <th>total_rooms</th>\n",
       "      <th>total_bedrooms</th>\n",
       "      <th>population</th>\n",
       "      <th>households</th>\n",
       "      <th>median_income</th>\n",
       "      <th>median_house_value</th>\n",
       "    </tr>\n",
       "  </thead>\n",
       "  <tbody>\n",
       "    <tr>\n",
       "      <th>count</th>\n",
       "      <td>20640.000000</td>\n",
       "      <td>20640.000000</td>\n",
       "      <td>20640.000000</td>\n",
       "      <td>20640.000000</td>\n",
       "      <td>20433.000000</td>\n",
       "      <td>20640.000000</td>\n",
       "      <td>20640.000000</td>\n",
       "      <td>20640.000000</td>\n",
       "      <td>20640.000000</td>\n",
       "    </tr>\n",
       "    <tr>\n",
       "      <th>mean</th>\n",
       "      <td>-119.569704</td>\n",
       "      <td>35.631861</td>\n",
       "      <td>28.639486</td>\n",
       "      <td>2635.763081</td>\n",
       "      <td>537.870553</td>\n",
       "      <td>1425.476744</td>\n",
       "      <td>499.539680</td>\n",
       "      <td>3.870671</td>\n",
       "      <td>206855.816909</td>\n",
       "    </tr>\n",
       "    <tr>\n",
       "      <th>std</th>\n",
       "      <td>2.003532</td>\n",
       "      <td>2.135952</td>\n",
       "      <td>12.585558</td>\n",
       "      <td>2181.615252</td>\n",
       "      <td>421.385070</td>\n",
       "      <td>1132.462122</td>\n",
       "      <td>382.329753</td>\n",
       "      <td>1.899822</td>\n",
       "      <td>115395.615874</td>\n",
       "    </tr>\n",
       "    <tr>\n",
       "      <th>min</th>\n",
       "      <td>-124.350000</td>\n",
       "      <td>32.540000</td>\n",
       "      <td>1.000000</td>\n",
       "      <td>2.000000</td>\n",
       "      <td>1.000000</td>\n",
       "      <td>3.000000</td>\n",
       "      <td>1.000000</td>\n",
       "      <td>0.499900</td>\n",
       "      <td>14999.000000</td>\n",
       "    </tr>\n",
       "    <tr>\n",
       "      <th>25%</th>\n",
       "      <td>-121.800000</td>\n",
       "      <td>33.930000</td>\n",
       "      <td>18.000000</td>\n",
       "      <td>1447.750000</td>\n",
       "      <td>296.000000</td>\n",
       "      <td>787.000000</td>\n",
       "      <td>280.000000</td>\n",
       "      <td>2.563400</td>\n",
       "      <td>119600.000000</td>\n",
       "    </tr>\n",
       "    <tr>\n",
       "      <th>50%</th>\n",
       "      <td>-118.490000</td>\n",
       "      <td>34.260000</td>\n",
       "      <td>29.000000</td>\n",
       "      <td>2127.000000</td>\n",
       "      <td>435.000000</td>\n",
       "      <td>1166.000000</td>\n",
       "      <td>409.000000</td>\n",
       "      <td>3.534800</td>\n",
       "      <td>179700.000000</td>\n",
       "    </tr>\n",
       "    <tr>\n",
       "      <th>75%</th>\n",
       "      <td>-118.010000</td>\n",
       "      <td>37.710000</td>\n",
       "      <td>37.000000</td>\n",
       "      <td>3148.000000</td>\n",
       "      <td>647.000000</td>\n",
       "      <td>1725.000000</td>\n",
       "      <td>605.000000</td>\n",
       "      <td>4.743250</td>\n",
       "      <td>264725.000000</td>\n",
       "    </tr>\n",
       "    <tr>\n",
       "      <th>max</th>\n",
       "      <td>-114.310000</td>\n",
       "      <td>41.950000</td>\n",
       "      <td>52.000000</td>\n",
       "      <td>39320.000000</td>\n",
       "      <td>6445.000000</td>\n",
       "      <td>35682.000000</td>\n",
       "      <td>6082.000000</td>\n",
       "      <td>15.000100</td>\n",
       "      <td>500001.000000</td>\n",
       "    </tr>\n",
       "  </tbody>\n",
       "</table>\n",
       "</div>"
      ],
      "text/plain": [
       "          longitude      latitude  housing_median_age   total_rooms  \\\n",
       "count  20640.000000  20640.000000        20640.000000  20640.000000   \n",
       "mean    -119.569704     35.631861           28.639486   2635.763081   \n",
       "std        2.003532      2.135952           12.585558   2181.615252   \n",
       "min     -124.350000     32.540000            1.000000      2.000000   \n",
       "25%     -121.800000     33.930000           18.000000   1447.750000   \n",
       "50%     -118.490000     34.260000           29.000000   2127.000000   \n",
       "75%     -118.010000     37.710000           37.000000   3148.000000   \n",
       "max     -114.310000     41.950000           52.000000  39320.000000   \n",
       "\n",
       "       total_bedrooms    population    households  median_income  \\\n",
       "count    20433.000000  20640.000000  20640.000000   20640.000000   \n",
       "mean       537.870553   1425.476744    499.539680       3.870671   \n",
       "std        421.385070   1132.462122    382.329753       1.899822   \n",
       "min          1.000000      3.000000      1.000000       0.499900   \n",
       "25%        296.000000    787.000000    280.000000       2.563400   \n",
       "50%        435.000000   1166.000000    409.000000       3.534800   \n",
       "75%        647.000000   1725.000000    605.000000       4.743250   \n",
       "max       6445.000000  35682.000000   6082.000000      15.000100   \n",
       "\n",
       "       median_house_value  \n",
       "count        20640.000000  \n",
       "mean        206855.816909  \n",
       "std         115395.615874  \n",
       "min          14999.000000  \n",
       "25%         119600.000000  \n",
       "50%         179700.000000  \n",
       "75%         264725.000000  \n",
       "max         500001.000000  "
      ]
     },
     "execution_count": 130,
     "metadata": {},
     "output_type": "execute_result"
    }
   ],
   "source": [
    "### Viewing the desciption of Data \n",
    "\n",
    "df.describe()"
   ]
  },
  {
   "cell_type": "code",
   "execution_count": 131,
   "id": "94f15051",
   "metadata": {},
   "outputs": [
    {
     "name": "stdout",
     "output_type": "stream",
     "text": [
      "<class 'pandas.core.frame.DataFrame'>\n",
      "RangeIndex: 20640 entries, 0 to 20639\n",
      "Data columns (total 10 columns):\n",
      " #   Column              Non-Null Count  Dtype  \n",
      "---  ------              --------------  -----  \n",
      " 0   longitude           20640 non-null  float64\n",
      " 1   latitude            20640 non-null  float64\n",
      " 2   housing_median_age  20640 non-null  int64  \n",
      " 3   total_rooms         20640 non-null  int64  \n",
      " 4   total_bedrooms      20433 non-null  float64\n",
      " 5   population          20640 non-null  int64  \n",
      " 6   households          20640 non-null  int64  \n",
      " 7   median_income       20640 non-null  float64\n",
      " 8   ocean_proximity     20640 non-null  object \n",
      " 9   median_house_value  20640 non-null  int64  \n",
      "dtypes: float64(4), int64(5), object(1)\n",
      "memory usage: 1.6+ MB\n"
     ]
    }
   ],
   "source": [
    "### Viewing the information of the Data\n",
    "\n",
    "df.info()"
   ]
  },
  {
   "cell_type": "markdown",
   "id": "43133c17",
   "metadata": {},
   "source": [
    "### TASK2: Handling Missing Values "
   ]
  },
  {
   "cell_type": "code",
   "execution_count": 132,
   "id": "2cee4441",
   "metadata": {},
   "outputs": [
    {
     "data": {
      "text/plain": [
       "longitude               0\n",
       "latitude                0\n",
       "housing_median_age      0\n",
       "total_rooms             0\n",
       "total_bedrooms        207\n",
       "population              0\n",
       "households              0\n",
       "median_income           0\n",
       "ocean_proximity         0\n",
       "median_house_value      0\n",
       "dtype: int64"
      ]
     },
     "execution_count": 132,
     "metadata": {},
     "output_type": "execute_result"
    }
   ],
   "source": [
    "###Checking whether any of the Features/Independent Variables are having null values . \n",
    "\n",
    "df.isnull().sum()"
   ]
  },
  {
   "cell_type": "code",
   "execution_count": 133,
   "id": "ebcc43ed",
   "metadata": {},
   "outputs": [],
   "source": [
    "###Filling the null values of the column \"total_bedrooms\" with its mean value. \n",
    "\n",
    "df['total_bedrooms'].fillna(df['total_bedrooms'].mean(),inplace=True)"
   ]
  },
  {
   "cell_type": "code",
   "execution_count": 134,
   "id": "8160c671",
   "metadata": {},
   "outputs": [
    {
     "data": {
      "text/plain": [
       "longitude             0\n",
       "latitude              0\n",
       "housing_median_age    0\n",
       "total_rooms           0\n",
       "total_bedrooms        0\n",
       "population            0\n",
       "households            0\n",
       "median_income         0\n",
       "ocean_proximity       0\n",
       "median_house_value    0\n",
       "dtype: int64"
      ]
     },
     "execution_count": 134,
     "metadata": {},
     "output_type": "execute_result"
    }
   ],
   "source": [
    "### Checking Whether all null values are replaced correctly\n",
    "\n",
    "df.isnull().sum()"
   ]
  },
  {
   "cell_type": "code",
   "execution_count": 135,
   "id": "e5d415ea",
   "metadata": {},
   "outputs": [
    {
     "data": {
      "text/plain": [
       "537.8705525375639"
      ]
     },
     "execution_count": 135,
     "metadata": {},
     "output_type": "execute_result"
    }
   ],
   "source": [
    "df['total_bedrooms'].mean()"
   ]
  },
  {
   "cell_type": "markdown",
   "id": "3690c365",
   "metadata": {},
   "source": [
    "### TASK3: Encode categorical data "
   ]
  },
  {
   "cell_type": "code",
   "execution_count": 136,
   "id": "d7442aca",
   "metadata": {},
   "outputs": [
    {
     "data": {
      "text/plain": [
       "longitude             float64\n",
       "latitude              float64\n",
       "housing_median_age      int64\n",
       "total_rooms             int64\n",
       "total_bedrooms        float64\n",
       "population              int64\n",
       "households              int64\n",
       "median_income         float64\n",
       "ocean_proximity        object\n",
       "median_house_value      int64\n",
       "dtype: object"
      ]
     },
     "execution_count": 136,
     "metadata": {},
     "output_type": "execute_result"
    }
   ],
   "source": [
    "#### Viewing the Data types of all columns\n",
    "\n",
    "df.dtypes"
   ]
  },
  {
   "cell_type": "code",
   "execution_count": 137,
   "id": "d253f530",
   "metadata": {},
   "outputs": [
    {
     "data": {
      "text/plain": [
       "<1H OCEAN     9136\n",
       "INLAND        6551\n",
       "NEAR OCEAN    2658\n",
       "NEAR BAY      2290\n",
       "ISLAND           5\n",
       "Name: ocean_proximity, dtype: int64"
      ]
     },
     "execution_count": 137,
     "metadata": {},
     "output_type": "execute_result"
    }
   ],
   "source": [
    "### Viewing the data of categorical column\n",
    "\n",
    "df.ocean_proximity.value_counts()"
   ]
  },
  {
   "cell_type": "code",
   "execution_count": 138,
   "id": "4b1660ff",
   "metadata": {},
   "outputs": [
    {
     "data": {
      "text/html": [
       "<div>\n",
       "<style scoped>\n",
       "    .dataframe tbody tr th:only-of-type {\n",
       "        vertical-align: middle;\n",
       "    }\n",
       "\n",
       "    .dataframe tbody tr th {\n",
       "        vertical-align: top;\n",
       "    }\n",
       "\n",
       "    .dataframe thead th {\n",
       "        text-align: right;\n",
       "    }\n",
       "</style>\n",
       "<table border=\"1\" class=\"dataframe\">\n",
       "  <thead>\n",
       "    <tr style=\"text-align: right;\">\n",
       "      <th></th>\n",
       "      <th>longitude</th>\n",
       "      <th>latitude</th>\n",
       "      <th>housing_median_age</th>\n",
       "      <th>total_rooms</th>\n",
       "      <th>total_bedrooms</th>\n",
       "      <th>population</th>\n",
       "      <th>households</th>\n",
       "      <th>median_income</th>\n",
       "      <th>median_house_value</th>\n",
       "      <th>ocean_proximity_&lt;1H OCEAN</th>\n",
       "      <th>ocean_proximity_INLAND</th>\n",
       "      <th>ocean_proximity_ISLAND</th>\n",
       "      <th>ocean_proximity_NEAR BAY</th>\n",
       "      <th>ocean_proximity_NEAR OCEAN</th>\n",
       "    </tr>\n",
       "  </thead>\n",
       "  <tbody>\n",
       "    <tr>\n",
       "      <th>0</th>\n",
       "      <td>-122.23</td>\n",
       "      <td>37.88</td>\n",
       "      <td>41</td>\n",
       "      <td>880</td>\n",
       "      <td>129.0</td>\n",
       "      <td>322</td>\n",
       "      <td>126</td>\n",
       "      <td>8.3252</td>\n",
       "      <td>452600</td>\n",
       "      <td>0</td>\n",
       "      <td>0</td>\n",
       "      <td>0</td>\n",
       "      <td>1</td>\n",
       "      <td>0</td>\n",
       "    </tr>\n",
       "    <tr>\n",
       "      <th>1</th>\n",
       "      <td>-122.22</td>\n",
       "      <td>37.86</td>\n",
       "      <td>21</td>\n",
       "      <td>7099</td>\n",
       "      <td>1106.0</td>\n",
       "      <td>2401</td>\n",
       "      <td>1138</td>\n",
       "      <td>8.3014</td>\n",
       "      <td>358500</td>\n",
       "      <td>0</td>\n",
       "      <td>0</td>\n",
       "      <td>0</td>\n",
       "      <td>1</td>\n",
       "      <td>0</td>\n",
       "    </tr>\n",
       "    <tr>\n",
       "      <th>2</th>\n",
       "      <td>-122.24</td>\n",
       "      <td>37.85</td>\n",
       "      <td>52</td>\n",
       "      <td>1467</td>\n",
       "      <td>190.0</td>\n",
       "      <td>496</td>\n",
       "      <td>177</td>\n",
       "      <td>7.2574</td>\n",
       "      <td>352100</td>\n",
       "      <td>0</td>\n",
       "      <td>0</td>\n",
       "      <td>0</td>\n",
       "      <td>1</td>\n",
       "      <td>0</td>\n",
       "    </tr>\n",
       "    <tr>\n",
       "      <th>3</th>\n",
       "      <td>-122.25</td>\n",
       "      <td>37.85</td>\n",
       "      <td>52</td>\n",
       "      <td>1274</td>\n",
       "      <td>235.0</td>\n",
       "      <td>558</td>\n",
       "      <td>219</td>\n",
       "      <td>5.6431</td>\n",
       "      <td>341300</td>\n",
       "      <td>0</td>\n",
       "      <td>0</td>\n",
       "      <td>0</td>\n",
       "      <td>1</td>\n",
       "      <td>0</td>\n",
       "    </tr>\n",
       "    <tr>\n",
       "      <th>4</th>\n",
       "      <td>-122.25</td>\n",
       "      <td>37.85</td>\n",
       "      <td>52</td>\n",
       "      <td>1627</td>\n",
       "      <td>280.0</td>\n",
       "      <td>565</td>\n",
       "      <td>259</td>\n",
       "      <td>3.8462</td>\n",
       "      <td>342200</td>\n",
       "      <td>0</td>\n",
       "      <td>0</td>\n",
       "      <td>0</td>\n",
       "      <td>1</td>\n",
       "      <td>0</td>\n",
       "    </tr>\n",
       "  </tbody>\n",
       "</table>\n",
       "</div>"
      ],
      "text/plain": [
       "   longitude  latitude  housing_median_age  total_rooms  total_bedrooms  \\\n",
       "0    -122.23     37.88                  41          880           129.0   \n",
       "1    -122.22     37.86                  21         7099          1106.0   \n",
       "2    -122.24     37.85                  52         1467           190.0   \n",
       "3    -122.25     37.85                  52         1274           235.0   \n",
       "4    -122.25     37.85                  52         1627           280.0   \n",
       "\n",
       "   population  households  median_income  median_house_value  \\\n",
       "0         322         126         8.3252              452600   \n",
       "1        2401        1138         8.3014              358500   \n",
       "2         496         177         7.2574              352100   \n",
       "3         558         219         5.6431              341300   \n",
       "4         565         259         3.8462              342200   \n",
       "\n",
       "   ocean_proximity_<1H OCEAN  ocean_proximity_INLAND  ocean_proximity_ISLAND  \\\n",
       "0                          0                       0                       0   \n",
       "1                          0                       0                       0   \n",
       "2                          0                       0                       0   \n",
       "3                          0                       0                       0   \n",
       "4                          0                       0                       0   \n",
       "\n",
       "   ocean_proximity_NEAR BAY  ocean_proximity_NEAR OCEAN  \n",
       "0                         1                           0  \n",
       "1                         1                           0  \n",
       "2                         1                           0  \n",
       "3                         1                           0  \n",
       "4                         1                           0  "
      ]
     },
     "execution_count": 138,
     "metadata": {},
     "output_type": "execute_result"
    }
   ],
   "source": [
    "### Converting the categorical column \"Ocean Proximity\"  into Numeric using one hot encoding technique .\n",
    "\n",
    "df=pd.get_dummies(df,columns=['ocean_proximity'])\n",
    "df.head()\n"
   ]
  },
  {
   "cell_type": "code",
   "execution_count": 139,
   "id": "973fb90b",
   "metadata": {},
   "outputs": [
    {
     "data": {
      "text/plain": [
       "longitude                     float64\n",
       "latitude                      float64\n",
       "housing_median_age              int64\n",
       "total_rooms                     int64\n",
       "total_bedrooms                float64\n",
       "population                      int64\n",
       "households                      int64\n",
       "median_income                 float64\n",
       "median_house_value              int64\n",
       "ocean_proximity_<1H OCEAN       uint8\n",
       "ocean_proximity_INLAND          uint8\n",
       "ocean_proximity_ISLAND          uint8\n",
       "ocean_proximity_NEAR BAY        uint8\n",
       "ocean_proximity_NEAR OCEAN      uint8\n",
       "dtype: object"
      ]
     },
     "execution_count": 139,
     "metadata": {},
     "output_type": "execute_result"
    }
   ],
   "source": [
    "### Viewing the data type after converting data of the categorical column\n",
    "\n",
    "df.dtypes"
   ]
  },
  {
   "cell_type": "code",
   "execution_count": 140,
   "id": "7874e095",
   "metadata": {},
   "outputs": [
    {
     "data": {
      "text/plain": [
       "((20640, 14),\n",
       " Index(['longitude', 'latitude', 'housing_median_age', 'total_rooms',\n",
       "        'total_bedrooms', 'population', 'households', 'median_income',\n",
       "        'median_house_value', 'ocean_proximity_<1H OCEAN',\n",
       "        'ocean_proximity_INLAND', 'ocean_proximity_ISLAND',\n",
       "        'ocean_proximity_NEAR BAY', 'ocean_proximity_NEAR OCEAN'],\n",
       "       dtype='object'))"
      ]
     },
     "execution_count": 140,
     "metadata": {},
     "output_type": "execute_result"
    }
   ],
   "source": [
    "### Checking the shape and columns of the Dataset .\n",
    "\n",
    "df.shape,df.columns"
   ]
  },
  {
   "cell_type": "markdown",
   "id": "72588e10",
   "metadata": {},
   "source": [
    "### TASK4: Split the dataset "
   ]
  },
  {
   "cell_type": "code",
   "execution_count": 141,
   "id": "c2a453ce",
   "metadata": {},
   "outputs": [
    {
     "data": {
      "text/plain": [
       "((20640, 13), (20640, 1))"
      ]
     },
     "execution_count": 141,
     "metadata": {},
     "output_type": "execute_result"
    }
   ],
   "source": [
    "### Divining the columns of the Dataframe into Features and Labels .\n",
    "\n",
    "x_feature = df.drop(['median_house_value'],axis=1)  ## Features/Independent Variable\n",
    "y_target=df[['median_house_value']] ## Label/Dependent Variable \n",
    "x_feature.shape,y_target.shape"
   ]
  },
  {
   "cell_type": "code",
   "execution_count": 142,
   "id": "06f6ae3a",
   "metadata": {},
   "outputs": [],
   "source": [
    "### Partitioning the data into Train and Test.\n",
    "\n",
    "x_train,x_test,y_train,y_test=train_test_split(x_feature,y_target,test_size=.2,random_state=40)"
   ]
  },
  {
   "cell_type": "code",
   "execution_count": 143,
   "id": "1bbc34bc",
   "metadata": {},
   "outputs": [
    {
     "data": {
      "text/plain": [
       "((16512, 13), (4128, 13), (16512, 1), (4128, 1))"
      ]
     },
     "execution_count": 143,
     "metadata": {},
     "output_type": "execute_result"
    }
   ],
   "source": [
    "### Checking the shape of the data partions created \n",
    "\n",
    "x_train.shape,x_test.shape,y_train.shape,y_test.shape"
   ]
  },
  {
   "cell_type": "markdown",
   "id": "c6fed3a7",
   "metadata": {},
   "source": [
    "### TASK5: Standardize data "
   ]
  },
  {
   "cell_type": "code",
   "execution_count": 144,
   "id": "ceda2f08",
   "metadata": {},
   "outputs": [],
   "source": [
    "### Normalizing the Data Partitions created using StandardScaler class Object\n",
    "\n",
    "scal = StandardScaler()\n",
    "scaled_x_train = scal.fit_transform(x_train)\n",
    "scaled_x_test = scal.transform(x_test)"
   ]
  },
  {
   "cell_type": "markdown",
   "id": "ff5e4d64",
   "metadata": {},
   "source": [
    "### TASK6: Perform Linear Regression "
   ]
  },
  {
   "cell_type": "code",
   "execution_count": 145,
   "id": "74180c1a",
   "metadata": {},
   "outputs": [
    {
     "data": {
      "text/plain": [
       "LinearRegression()"
      ]
     },
     "execution_count": 145,
     "metadata": {},
     "output_type": "execute_result"
    }
   ],
   "source": [
    "### Creating the Linear Regression Model on the Train dataset using LinearRegression class object. \n",
    "\n",
    "linreg = LinearRegression()\n",
    "linreg.fit(scaled_x_train,y_train)"
   ]
  },
  {
   "cell_type": "code",
   "execution_count": 146,
   "id": "efefc03b",
   "metadata": {},
   "outputs": [],
   "source": [
    "### Predicting the Target variable i.e., Housing Price for the Test data with the model built .\n",
    "\n",
    "y_pred_test=linreg.predict(scaled_x_test)"
   ]
  },
  {
   "cell_type": "code",
   "execution_count": 147,
   "id": "2cba3e6b",
   "metadata": {},
   "outputs": [
    {
     "data": {
      "text/plain": [
       "array([[220212.43148434],\n",
       "       [258804.28231359],\n",
       "       [136887.48407897],\n",
       "       [177193.08466964],\n",
       "       [210749.42784589],\n",
       "       [195313.7823858 ],\n",
       "       [291842.15286277],\n",
       "       [126843.78462838],\n",
       "       [314439.16391496],\n",
       "       [299867.71279969]])"
      ]
     },
     "execution_count": 147,
     "metadata": {},
     "output_type": "execute_result"
    }
   ],
   "source": [
    "### Viewing the Data Predicted\n",
    "\n",
    "y_pred_test[0:10]"
   ]
  },
  {
   "cell_type": "code",
   "execution_count": 148,
   "id": "81cf268f",
   "metadata": {},
   "outputs": [
    {
     "data": {
      "text/plain": [
       "array([[-53094.69986788, -53764.09652131,  13249.14203681,\n",
       "        -11540.48931322,  32782.53735114, -42407.32678176,\n",
       "         25854.15165715,  73453.52931734,   5959.87924195,\n",
       "        -12525.66808695,   2371.84073106,   2598.0592647 ,\n",
       "          6018.51243363]])"
      ]
     },
     "execution_count": 148,
     "metadata": {},
     "output_type": "execute_result"
    }
   ],
   "source": [
    "### Viewing SLOPES / Coefficient/ Betas OF FEATURES\n",
    "\n",
    "linreg.coef_  ## SLOPES / Coefficient/ Betas OF FEATURES"
   ]
  },
  {
   "cell_type": "code",
   "execution_count": 149,
   "id": "92c6e7ac",
   "metadata": {},
   "outputs": [
    {
     "data": {
      "text/plain": [
       "array([206139.59823159])"
      ]
     },
     "execution_count": 149,
     "metadata": {},
     "output_type": "execute_result"
    }
   ],
   "source": [
    "### Viewing  CONSTANT / INTERCEPT\n",
    "\n",
    "linreg.intercept_  "
   ]
  },
  {
   "cell_type": "code",
   "execution_count": 150,
   "id": "00f40dd6",
   "metadata": {},
   "outputs": [
    {
     "data": {
      "text/plain": [
       "0.6433224735396106"
      ]
     },
     "execution_count": 150,
     "metadata": {},
     "output_type": "execute_result"
    }
   ],
   "source": [
    "### Checking the performance of the model on the Train Data\n",
    "\n",
    "linreg.score(scaled_x_train,y_train)"
   ]
  },
  {
   "cell_type": "code",
   "execution_count": 151,
   "id": "638d8e02",
   "metadata": {},
   "outputs": [
    {
     "data": {
      "text/plain": [
       "0.6528491497071673"
      ]
     },
     "execution_count": 151,
     "metadata": {},
     "output_type": "execute_result"
    }
   ],
   "source": [
    "### Checking the performance of the model on the Test data. \n",
    "\n",
    "linreg.score(scaled_x_test,y_test)"
   ]
  },
  {
   "cell_type": "code",
   "execution_count": 152,
   "id": "1d4a9407",
   "metadata": {},
   "outputs": [
    {
     "data": {
      "text/plain": [
       "(69228.25351819966, 4792551085.180124)"
      ]
     },
     "execution_count": 152,
     "metadata": {},
     "output_type": "execute_result"
    }
   ],
   "source": [
    "### Calculating the Root Mean Square Error .\n",
    "\n",
    "\n",
    "np.sqrt(mean_squared_error(y_test,y_pred_test)),mean_squared_error(y_test,y_pred_test)"
   ]
  },
  {
   "cell_type": "markdown",
   "id": "ccb1ed3f",
   "metadata": {},
   "source": [
    "### Bonus Exercise:  Perform Linear Regression with one independent variable "
   ]
  },
  {
   "cell_type": "code",
   "execution_count": 153,
   "id": "ac3f6a37",
   "metadata": {},
   "outputs": [
    {
     "data": {
      "text/html": [
       "<div>\n",
       "<style scoped>\n",
       "    .dataframe tbody tr th:only-of-type {\n",
       "        vertical-align: middle;\n",
       "    }\n",
       "\n",
       "    .dataframe tbody tr th {\n",
       "        vertical-align: top;\n",
       "    }\n",
       "\n",
       "    .dataframe thead th {\n",
       "        text-align: right;\n",
       "    }\n",
       "</style>\n",
       "<table border=\"1\" class=\"dataframe\">\n",
       "  <thead>\n",
       "    <tr style=\"text-align: right;\">\n",
       "      <th></th>\n",
       "      <th>median_house_value</th>\n",
       "    </tr>\n",
       "  </thead>\n",
       "  <tbody>\n",
       "    <tr>\n",
       "      <th>9226</th>\n",
       "      <td>63300</td>\n",
       "    </tr>\n",
       "    <tr>\n",
       "      <th>11826</th>\n",
       "      <td>174300</td>\n",
       "    </tr>\n",
       "    <tr>\n",
       "      <th>4553</th>\n",
       "      <td>350000</td>\n",
       "    </tr>\n",
       "    <tr>\n",
       "      <th>10787</th>\n",
       "      <td>268800</td>\n",
       "    </tr>\n",
       "    <tr>\n",
       "      <th>4104</th>\n",
       "      <td>385900</td>\n",
       "    </tr>\n",
       "    <tr>\n",
       "      <th>...</th>\n",
       "      <td>...</td>\n",
       "    </tr>\n",
       "    <tr>\n",
       "      <th>11532</th>\n",
       "      <td>61300</td>\n",
       "    </tr>\n",
       "    <tr>\n",
       "      <th>16065</th>\n",
       "      <td>329200</td>\n",
       "    </tr>\n",
       "    <tr>\n",
       "      <th>14501</th>\n",
       "      <td>100000</td>\n",
       "    </tr>\n",
       "    <tr>\n",
       "      <th>14555</th>\n",
       "      <td>240200</td>\n",
       "    </tr>\n",
       "    <tr>\n",
       "      <th>11590</th>\n",
       "      <td>233100</td>\n",
       "    </tr>\n",
       "  </tbody>\n",
       "</table>\n",
       "<p>16512 rows × 1 columns</p>\n",
       "</div>"
      ],
      "text/plain": [
       "       median_house_value\n",
       "9226                63300\n",
       "11826              174300\n",
       "4553               350000\n",
       "10787              268800\n",
       "4104               385900\n",
       "...                   ...\n",
       "11532               61300\n",
       "16065              329200\n",
       "14501              100000\n",
       "14555              240200\n",
       "11590              233100\n",
       "\n",
       "[16512 rows x 1 columns]"
      ]
     },
     "execution_count": 153,
     "metadata": {},
     "output_type": "execute_result"
    }
   ],
   "source": [
    "### Creating Test and Train Feature dataset using only one varible. \n",
    "\n",
    "uni_x_train = x_train[['median_income']]\n",
    "uni_x_test = x_test[['median_income']]\n",
    "y_train"
   ]
  },
  {
   "cell_type": "code",
   "execution_count": 154,
   "id": "4cfd4451",
   "metadata": {},
   "outputs": [
    {
     "data": {
      "text/plain": [
       "LinearRegression()"
      ]
     },
     "execution_count": 154,
     "metadata": {},
     "output_type": "execute_result"
    }
   ],
   "source": [
    "### Building the Linear Regression model for the new Training dataset using LinearRegression Object\n",
    "\n",
    "Ulinreg = LinearRegression()\n",
    "Ulinreg.fit(uni_x_train,y_train)\n",
    "##y_train.shape"
   ]
  },
  {
   "cell_type": "code",
   "execution_count": 155,
   "id": "67c50ee1",
   "metadata": {},
   "outputs": [],
   "source": [
    "### Predicting the Target Variable for Train data\n",
    "\n",
    "Uy_pred_train=Ulinreg.predict(uni_x_train)"
   ]
  },
  {
   "cell_type": "code",
   "execution_count": 156,
   "id": "2333e597",
   "metadata": {},
   "outputs": [],
   "source": [
    "### Predicting The Test Variable for Test data\n",
    "\n",
    "Uy_pred_test=Ulinreg.predict(uni_x_test)"
   ]
  },
  {
   "cell_type": "code",
   "execution_count": 157,
   "id": "322273c5",
   "metadata": {},
   "outputs": [
    {
     "data": {
      "text/plain": [
       "(array([[41779.4211463]]), array([44628.26740003]))"
      ]
     },
     "execution_count": 157,
     "metadata": {},
     "output_type": "execute_result"
    }
   ],
   "source": [
    "### Viewing the slope(beta) and intercept of the model\n",
    "\n",
    "Ulinreg.coef_,Ulinreg.intercept_"
   ]
  },
  {
   "cell_type": "code",
   "execution_count": 158,
   "id": "0ec99e74",
   "metadata": {},
   "outputs": [
    {
     "data": {
      "text/plain": [
       "0.4651186283141753"
      ]
     },
     "execution_count": 158,
     "metadata": {},
     "output_type": "execute_result"
    }
   ],
   "source": [
    "### Checking the performance of the model for the Test Data\n",
    "\n",
    "Ulinreg.score(uni_x_test,y_test)"
   ]
  },
  {
   "cell_type": "code",
   "execution_count": 159,
   "id": "42e679fd",
   "metadata": {},
   "outputs": [
    {
     "data": {
      "text/plain": [
       "0.4754993648770358"
      ]
     },
     "execution_count": 159,
     "metadata": {},
     "output_type": "execute_result"
    }
   ],
   "source": [
    "### Checking the performance of the model for the Train Data. \n",
    "\n",
    "Ulinreg.score(uni_x_train,y_train)"
   ]
  },
  {
   "cell_type": "code",
   "execution_count": 160,
   "id": "761b45bd",
   "metadata": {
    "scrolled": true
   },
   "outputs": [
    {
     "data": {
      "image/png": "[encoded data removed]",
      "text/plain": [
       "<Figure size 432x288 with 1 Axes>"
      ]
     },
     "metadata": {
      "needs_background": "light"
     },
     "output_type": "display_data"
    }
   ],
   "source": [
    "### Plotting Scatter and linear plot of Actual vs Predicted Train Data .\n",
    "\n",
    "\n",
    "plt.scatter(uni_x_train,y_train)\n",
    "plt.plot(uni_x_train,Uy_pred_train,color='red',\n",
    "         label='Train')\n",
    "plt.title(\"Actual vs Predicted\")\n",
    "plt.xlabel(\"Median Income\")\n",
    "plt.ylabel(\"Median House value\")\n",
    "plt.show()"
   ]
  },
  {
   "cell_type": "code",
   "execution_count": 161,
   "id": "c3bc9175",
   "metadata": {
    "scrolled": true
   },
   "outputs": [
    {
     "data": {
      "image/png": "[encoded data removed]",
      "text/plain": [
       "<Figure size 432x288 with 1 Axes>"
      ]
     },
     "metadata": {
      "needs_background": "light"
     },
     "output_type": "display_data"
    }
   ],
   "source": [
    "### Plotting Scatter and linear plot of Actual vs Predicted Test Data .\n",
    "\n",
    "\n",
    "\n",
    "plt.scatter(uni_x_test,y_test)\n",
    "plt.plot(uni_x_test,Uy_pred_test,color='red')\n",
    "plt.title(\"Actual vs Predicted\")\n",
    "plt.xlabel(\"Median Income\")\n",
    "plt.ylabel(\"Median House value\")\n",
    "plt.show()"
   ]
  },
  {
   "cell_type": "markdown",
   "id": "8b49ba00",
   "metadata": {},
   "source": [
    "### Conclusion : Model Built is performing same on both Test Data and Train Data"
   ]
  }
 ],
 "metadata": {
  "kernelspec": {
   "display_name": "Python 3 (ipykernel)",
   "language": "python",
   "name": "python3"
  },
  "language_info": {
   "codemirror_mode": {
    "name": "ipython",
    "version": 3
   },
   "file_extension": ".py",
   "mimetype": "text/x-python",
   "name": "python",
   "nbconvert_exporter": "python",
   "pygments_lexer": "ipython3",
   "version": "3.9.7"
  }
 },
 "nbformat": 4,
 "nbformat_minor": 5
}
