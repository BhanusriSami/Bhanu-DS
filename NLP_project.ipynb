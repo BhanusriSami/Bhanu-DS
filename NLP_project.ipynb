{
 "cells": [
  {
   "cell_type": "code",
   "execution_count": 41,
   "id": "91876288",
   "metadata": {},
   "outputs": [],
   "source": [
    "### importing all necessary packages \n",
    "\n",
    "import pandas as pd\n",
    "import numpy as np\n",
    "import string\n",
    "import contractions\n",
    "import re\n",
    "import nltk\n",
    "import scipy.sparse as sp\n",
    "from nltk.corpus import stopwords\n",
    "from sklearn.feature_extraction.text import ENGLISH_STOP_WORDS\n",
    "from nltk.stem import WordNetLemmatizer\n",
    "import matplotlib.pyplot as plt\n",
    "from sklearn.feature_extraction.text import TfidfVectorizer\n",
    "from sklearn.model_selection import train_test_split\n",
    "from sklearn.svm import LinearSVC\n",
    "from sklearn.metrics import accuracy_score,confusion_matrix,recall_score,f1_score \n",
    "from sklearn.model_selection import GridSearchCV\n",
    "from sklearn.model_selection import cross_val_score, cross_validate\n",
    "from sklearn.model_selection import StratifiedKFold\n",
    "from sklearn.pipeline import make_pipeline, Pipeline"
   ]
  },
  {
   "cell_type": "code",
   "execution_count": 42,
   "id": "328d3006",
   "metadata": {},
   "outputs": [
    {
     "data": {
      "text/html": [
       "<div>\n",
       "<style scoped>\n",
       "    .dataframe tbody tr th:only-of-type {\n",
       "        vertical-align: middle;\n",
       "    }\n",
       "\n",
       "    .dataframe tbody tr th {\n",
       "        vertical-align: top;\n",
       "    }\n",
       "\n",
       "    .dataframe thead th {\n",
       "        text-align: right;\n",
       "    }\n",
       "</style>\n",
       "<table border=\"1\" class=\"dataframe\">\n",
       "  <thead>\n",
       "    <tr style=\"text-align: right;\">\n",
       "      <th></th>\n",
       "      <th>id</th>\n",
       "      <th>comment_text</th>\n",
       "      <th>toxic</th>\n",
       "    </tr>\n",
       "  </thead>\n",
       "  <tbody>\n",
       "    <tr>\n",
       "      <th>0</th>\n",
       "      <td>e617e2489abe9bca</td>\n",
       "      <td>\"\\r\\n\\r\\n A barnstar for you! \\r\\n\\r\\n  The De...</td>\n",
       "      <td>0</td>\n",
       "    </tr>\n",
       "    <tr>\n",
       "      <th>1</th>\n",
       "      <td>9250cf637294e09d</td>\n",
       "      <td>\"\\r\\n\\r\\nThis seems unbalanced.  whatever I ha...</td>\n",
       "      <td>0</td>\n",
       "    </tr>\n",
       "    <tr>\n",
       "      <th>2</th>\n",
       "      <td>ce1aa4592d5240ca</td>\n",
       "      <td>Marya Dzmitruk was born in Minsk, Belarus in M...</td>\n",
       "      <td>0</td>\n",
       "    </tr>\n",
       "    <tr>\n",
       "      <th>3</th>\n",
       "      <td>48105766ff7f075b</td>\n",
       "      <td>\"\\r\\n\\r\\nTalkback\\r\\n\\r\\n Dear Celestia...  \"</td>\n",
       "      <td>0</td>\n",
       "    </tr>\n",
       "    <tr>\n",
       "      <th>4</th>\n",
       "      <td>0543d4f82e5470b6</td>\n",
       "      <td>New Categories \\r\\n\\r\\nI honestly think that w...</td>\n",
       "      <td>0</td>\n",
       "    </tr>\n",
       "  </tbody>\n",
       "</table>\n",
       "</div>"
      ],
      "text/plain": [
       "                 id                                       comment_text  toxic\n",
       "0  e617e2489abe9bca  \"\\r\\n\\r\\n A barnstar for you! \\r\\n\\r\\n  The De...      0\n",
       "1  9250cf637294e09d  \"\\r\\n\\r\\nThis seems unbalanced.  whatever I ha...      0\n",
       "2  ce1aa4592d5240ca  Marya Dzmitruk was born in Minsk, Belarus in M...      0\n",
       "3  48105766ff7f075b      \"\\r\\n\\r\\nTalkback\\r\\n\\r\\n Dear Celestia...  \"      0\n",
       "4  0543d4f82e5470b6  New Categories \\r\\n\\r\\nI honestly think that w...      0"
      ]
     },
     "execution_count": 42,
     "metadata": {},
     "output_type": "execute_result"
    }
   ],
   "source": [
    "### Loading the data and viewing the top 5 records\n",
    "\n",
    "data = pd.read_csv('train.csv')\n",
    "data.head()"
   ]
  },
  {
   "cell_type": "code",
   "execution_count": 43,
   "id": "fb94fe3e",
   "metadata": {},
   "outputs": [
    {
     "name": "stdout",
     "output_type": "stream",
     "text": [
      "<class 'pandas.core.frame.DataFrame'>\n",
      "RangeIndex: 5000 entries, 0 to 4999\n",
      "Data columns (total 3 columns):\n",
      " #   Column        Non-Null Count  Dtype \n",
      "---  ------        --------------  ----- \n",
      " 0   id            5000 non-null   object\n",
      " 1   comment_text  5000 non-null   object\n",
      " 2   toxic         5000 non-null   int64 \n",
      "dtypes: int64(1), object(2)\n",
      "memory usage: 117.3+ KB\n"
     ]
    }
   ],
   "source": [
    "### checking for columns data types. \n",
    "\n",
    "data.info()"
   ]
  },
  {
   "cell_type": "code",
   "execution_count": 44,
   "id": "03599647",
   "metadata": {},
   "outputs": [
    {
     "data": {
      "text/plain": [
       "id              0\n",
       "comment_text    0\n",
       "toxic           0\n",
       "dtype: int64"
      ]
     },
     "execution_count": 44,
     "metadata": {},
     "output_type": "execute_result"
    }
   ],
   "source": [
    "# checking for missing values\n",
    "\n",
    "data.isnull().sum()"
   ]
  },
  {
   "cell_type": "code",
   "execution_count": 45,
   "id": "c4ebf026",
   "metadata": {},
   "outputs": [
    {
     "data": {
      "text/html": [
       "<div>\n",
       "<style scoped>\n",
       "    .dataframe tbody tr th:only-of-type {\n",
       "        vertical-align: middle;\n",
       "    }\n",
       "\n",
       "    .dataframe tbody tr th {\n",
       "        vertical-align: top;\n",
       "    }\n",
       "\n",
       "    .dataframe thead th {\n",
       "        text-align: right;\n",
       "    }\n",
       "</style>\n",
       "<table border=\"1\" class=\"dataframe\">\n",
       "  <thead>\n",
       "    <tr style=\"text-align: right;\">\n",
       "      <th></th>\n",
       "      <th>comment_text</th>\n",
       "      <th>toxic</th>\n",
       "    </tr>\n",
       "  </thead>\n",
       "  <tbody>\n",
       "    <tr>\n",
       "      <th>0</th>\n",
       "      <td>\"\\r\\n\\r\\n A barnstar for you! \\r\\n\\r\\n  The De...</td>\n",
       "      <td>0</td>\n",
       "    </tr>\n",
       "    <tr>\n",
       "      <th>1</th>\n",
       "      <td>\"\\r\\n\\r\\nThis seems unbalanced.  whatever I ha...</td>\n",
       "      <td>0</td>\n",
       "    </tr>\n",
       "    <tr>\n",
       "      <th>2</th>\n",
       "      <td>Marya Dzmitruk was born in Minsk, Belarus in M...</td>\n",
       "      <td>0</td>\n",
       "    </tr>\n",
       "    <tr>\n",
       "      <th>3</th>\n",
       "      <td>\"\\r\\n\\r\\nTalkback\\r\\n\\r\\n Dear Celestia...  \"</td>\n",
       "      <td>0</td>\n",
       "    </tr>\n",
       "    <tr>\n",
       "      <th>4</th>\n",
       "      <td>New Categories \\r\\n\\r\\nI honestly think that w...</td>\n",
       "      <td>0</td>\n",
       "    </tr>\n",
       "  </tbody>\n",
       "</table>\n",
       "</div>"
      ],
      "text/plain": [
       "                                        comment_text  toxic\n",
       "0  \"\\r\\n\\r\\n A barnstar for you! \\r\\n\\r\\n  The De...      0\n",
       "1  \"\\r\\n\\r\\nThis seems unbalanced.  whatever I ha...      0\n",
       "2  Marya Dzmitruk was born in Minsk, Belarus in M...      0\n",
       "3      \"\\r\\n\\r\\nTalkback\\r\\n\\r\\n Dear Celestia...  \"      0\n",
       "4  New Categories \\r\\n\\r\\nI honestly think that w...      0"
      ]
     },
     "execution_count": 45,
     "metadata": {},
     "output_type": "execute_result"
    }
   ],
   "source": [
    "# droping the id column\n",
    "\n",
    "data.drop(['id'], axis=1, inplace=True)\n",
    "data.head()"
   ]
  },
  {
   "cell_type": "markdown",
   "id": "3dd037a9",
   "metadata": {},
   "source": [
    "##  Data Cleaning"
   ]
  },
  {
   "cell_type": "code",
   "execution_count": 46,
   "id": "8935e9db",
   "metadata": {},
   "outputs": [
    {
     "data": {
      "text/plain": [
       "['haven', 'ma', \"you'll\", 'don', 'that', \"needn't\", 'do', 'whom', 're']"
      ]
     },
     "execution_count": 46,
     "metadata": {},
     "output_type": "execute_result"
    }
   ],
   "source": [
    "## Extracting all the nltk stopwords.\n",
    "\n",
    "nltk_stopwords = set(stopwords.words('english'))\n",
    "list(nltk_stopwords)[1:10]"
   ]
  },
  {
   "cell_type": "code",
   "execution_count": 47,
   "id": "52c830f7",
   "metadata": {},
   "outputs": [
    {
     "data": {
      "text/plain": [
       "['wherever',\n",
       " 'therefore',\n",
       " 're',\n",
       " 'another',\n",
       " 'keep',\n",
       " 'somewhere',\n",
       " 'me',\n",
       " 'not',\n",
       " 'sincere']"
      ]
     },
     "execution_count": 47,
     "metadata": {},
     "output_type": "execute_result"
    }
   ],
   "source": [
    "## Extracting the sklearn stopwords \n",
    "\n",
    "sklearn_stopwords = set(ENGLISH_STOP_WORDS)\n",
    "list(sklearn_stopwords)[1:10]"
   ]
  },
  {
   "cell_type": "code",
   "execution_count": 48,
   "id": "c2b9315c",
   "metadata": {},
   "outputs": [],
   "source": [
    "### Defining Domain specific stop words \n",
    "\n",
    "domain_stopwords = ['wikipedia', 'page', 'edit','article','source','editor','people','image','wiki']"
   ]
  },
  {
   "cell_type": "code",
   "execution_count": 49,
   "id": "c64d8bf2",
   "metadata": {},
   "outputs": [],
   "source": [
    "# Combining the stopwords from sklearn & NLTK\n",
    "\n",
    "combined_stopwords = nltk_stopwords.union(sklearn_stopwords)\n",
    "combined_stopwords = combined_stopwords.union(domain_stopwords)"
   ]
  },
  {
   "cell_type": "code",
   "execution_count": 50,
   "id": "113259e1",
   "metadata": {},
   "outputs": [],
   "source": [
    "# Text Normalization: Stemming or Lemmatization (prefer)\n",
    "\n",
    "lemmatizer = WordNetLemmatizer()"
   ]
  },
  {
   "cell_type": "code",
   "execution_count": 51,
   "id": "6c998d52",
   "metadata": {},
   "outputs": [],
   "source": [
    "## Defining a cleaner function \n",
    "\n",
    "def comment_cleaner(text):\n",
    "    \n",
    "    ### remove all ip addresses .\n",
    "    new_text = re.sub(r'(\\d{1,3})\\.(\\d{1,3})\\.(\\d{1,3})\\.(\\d{1,3})',\"\",text)\n",
    "    \n",
    "    ### removing all the hyperlinks\n",
    "    new_text = re.sub(r\"http\\S+\", \"\", new_text)\n",
    "    \n",
    "    ## Removing all contractions\n",
    "    new_text = contractions.fix(new_text)  \n",
    "    \n",
    "    #### Removing punctuatins\n",
    "    new_text = new_text.translate(str.maketrans('', '', string.punctuation))\n",
    "    \n",
    "    ### Removing numbers\n",
    "    new_text = re.sub(r'[0-9]',\"\",new_text)\n",
    "    \n",
    "    ## case nomalizing all the words \n",
    "    new_text = new_text.lower().strip()\n",
    "    \n",
    "    ## removing all the stopwords \n",
    "    new_text = [token for token in new_text.split() if token not in combined_stopwords]\n",
    "    \n",
    "    ## removing all the words which are of length less than 2 \n",
    "    new_text = [token for token in new_text if (len(token)>2)] \n",
    "    \n",
    "    ### Lemmatizing all the words using WordNet Lemmatizer .\n",
    "    cleaned_text = ''\n",
    "    for token in new_text:\n",
    "        cleaned_text = cleaned_text + lemmatizer.lemmatize(token) + ' '\n",
    "        \n",
    "    return cleaned_text"
   ]
  },
  {
   "cell_type": "code",
   "execution_count": 52,
   "id": "ce3ea43f",
   "metadata": {},
   "outputs": [
    {
     "data": {
      "text/plain": [
       "['barnstar defender barnstar like kayastha let form solidarity group malign subject matter propose folloing group united intellectual kayastha ethinicty racist castist abuse uifkearca ',\n",
       " 'unbalanced said mathsci said far extreme unpleasant thing mention greater frequency happy reign like ruth told trying mathsci pay attention stop uncivil expect issue request mathsci intentionally unbalanced reason let know voluntarily close account thing like lot contribute way point contributing project editor administrative leave aggressively rude good really deserve riding as time try certain thing happily leave hand dramaprone think best ludwigs ',\n",
       " 'marya dzmitruk born minsk belarus march mother olga nikolaevna moroz born baranovichi belarus father born brest belarus second child family parent divorced soon father remarried child marya age began gymnastics quit year later denied medal competition age incorrectly marked turned year old got admitted music school minsk class violin public school piano class main course age marya starred belarusfilm movie called “dunechka” soon started play theatre featured television show mother decided united state september marya went american school ingrid lacy middle school graduated spring traveled belarus month august went oceana high school graduate marya dzmitruk member isar international society astrological research member nonprofit government organization deal human right abuse world known helsinki committee marya hold diploma music school scholarship lisa spector’s music school award yli youth leadership institute marya close relationship mother personal life “as happy possibly get” say currently dating alex odessa ukraine marya currently attends school work isar helsinki committee free time ',\n",
       " 'talkback dear celestia ',\n",
       " 'new category honestly think need add category character new category like character pete ross whitney fordman listed main character make sense creating deceasedformer character section start problem post discussion ']"
      ]
     },
     "execution_count": 52,
     "metadata": {},
     "output_type": "execute_result"
    }
   ],
   "source": [
    "cleaned_comments = []  # list of cleaned tweets\n",
    "## creating a list of all cleaned tweets .\n",
    "\n",
    "for twt in data['comment_text']:\n",
    "    cleaned_comments.append(comment_cleaner(twt))\n",
    "\n",
    "cleaned_comments[:5]"
   ]
  },
  {
   "cell_type": "code",
   "execution_count": 53,
   "id": "82fe6eff",
   "metadata": {},
   "outputs": [
    {
     "data": {
      "text/html": [
       "<div>\n",
       "<style scoped>\n",
       "    .dataframe tbody tr th:only-of-type {\n",
       "        vertical-align: middle;\n",
       "    }\n",
       "\n",
       "    .dataframe tbody tr th {\n",
       "        vertical-align: top;\n",
       "    }\n",
       "\n",
       "    .dataframe thead th {\n",
       "        text-align: right;\n",
       "    }\n",
       "</style>\n",
       "<table border=\"1\" class=\"dataframe\">\n",
       "  <thead>\n",
       "    <tr style=\"text-align: right;\">\n",
       "      <th></th>\n",
       "      <th>comment_text</th>\n",
       "      <th>toxic</th>\n",
       "      <th>cleaned_comments</th>\n",
       "    </tr>\n",
       "  </thead>\n",
       "  <tbody>\n",
       "    <tr>\n",
       "      <th>0</th>\n",
       "      <td>\"\\r\\n\\r\\n A barnstar for you! \\r\\n\\r\\n  The De...</td>\n",
       "      <td>0</td>\n",
       "      <td>barnstar defender barnstar like kayastha let f...</td>\n",
       "    </tr>\n",
       "    <tr>\n",
       "      <th>1</th>\n",
       "      <td>\"\\r\\n\\r\\nThis seems unbalanced.  whatever I ha...</td>\n",
       "      <td>0</td>\n",
       "      <td>unbalanced said mathsci said far extreme unple...</td>\n",
       "    </tr>\n",
       "    <tr>\n",
       "      <th>2</th>\n",
       "      <td>Marya Dzmitruk was born in Minsk, Belarus in M...</td>\n",
       "      <td>0</td>\n",
       "      <td>marya dzmitruk born minsk belarus march mother...</td>\n",
       "    </tr>\n",
       "    <tr>\n",
       "      <th>3</th>\n",
       "      <td>\"\\r\\n\\r\\nTalkback\\r\\n\\r\\n Dear Celestia...  \"</td>\n",
       "      <td>0</td>\n",
       "      <td>talkback dear celestia</td>\n",
       "    </tr>\n",
       "    <tr>\n",
       "      <th>4</th>\n",
       "      <td>New Categories \\r\\n\\r\\nI honestly think that w...</td>\n",
       "      <td>0</td>\n",
       "      <td>new category honestly think need add category ...</td>\n",
       "    </tr>\n",
       "  </tbody>\n",
       "</table>\n",
       "</div>"
      ],
      "text/plain": [
       "                                        comment_text  toxic  \\\n",
       "0  \"\\r\\n\\r\\n A barnstar for you! \\r\\n\\r\\n  The De...      0   \n",
       "1  \"\\r\\n\\r\\nThis seems unbalanced.  whatever I ha...      0   \n",
       "2  Marya Dzmitruk was born in Minsk, Belarus in M...      0   \n",
       "3      \"\\r\\n\\r\\nTalkback\\r\\n\\r\\n Dear Celestia...  \"      0   \n",
       "4  New Categories \\r\\n\\r\\nI honestly think that w...      0   \n",
       "\n",
       "                                    cleaned_comments  \n",
       "0  barnstar defender barnstar like kayastha let f...  \n",
       "1  unbalanced said mathsci said far extreme unple...  \n",
       "2  marya dzmitruk born minsk belarus march mother...  \n",
       "3                            talkback dear celestia   \n",
       "4  new category honestly think need add category ...  "
      ]
     },
     "execution_count": 53,
     "metadata": {},
     "output_type": "execute_result"
    }
   ],
   "source": [
    "### Appending all the cleaned tweets to initial dataframe .\n",
    "\n",
    "data['cleaned_comments'] = cleaned_comments\n",
    "data.head()"
   ]
  },
  {
   "cell_type": "code",
   "execution_count": 54,
   "id": "430f7b6a",
   "metadata": {},
   "outputs": [
    {
     "name": "stdout",
     "output_type": "stream",
     "text": [
      "['barnstar', 'defender', 'barnstar', 'like', 'kayastha', 'let', 'form', 'solidarity', 'group', 'malign', 'subject', 'matter', 'propose', 'folloing', 'group', 'united', 'intellectual', 'kayastha', 'ethinicty', 'racist', 'castist', 'abuse', 'uifkearca', 'unbalanced', 'said', 'mathsci', 'said', 'far', 'extreme', 'unpleasant', 'thing', 'mention', 'greater', 'frequency', 'happy', 'reign', 'like', 'ruth', 'told', 'trying', 'mathsci', 'pay', 'attention', 'stop', 'uncivil', 'expect', 'issue', 'request', 'mathsci', 'intentionally']\n"
     ]
    },
    {
     "data": {
      "text/plain": [
       "21226"
      ]
     },
     "execution_count": 54,
     "metadata": {},
     "output_type": "execute_result"
    }
   ],
   "source": [
    "# Writing a code to collect all the words from all the comments into a single list\n",
    "\n",
    "all_words = []\n",
    "for t in data['cleaned_comments']:\n",
    "    all_words.extend(t.split())\n",
    "\n",
    "print(all_words[:50])\n",
    "len(set(all_words)) # this is the number of unique words in the list"
   ]
  },
  {
   "cell_type": "markdown",
   "id": "ba992cbf",
   "metadata": {},
   "source": [
    "##  Data Visualisation"
   ]
  },
  {
   "cell_type": "code",
   "execution_count": 55,
   "id": "3a2705b5",
   "metadata": {
    "scrolled": false
   },
   "outputs": [
    {
     "data": {
      "image/png": "[encoded data removed]",
      "text/plain": [
       "<Figure size 864x360 with 1 Axes>"
      ]
     },
     "metadata": {
      "needs_background": "light"
     },
     "output_type": "display_data"
    }
   ],
   "source": [
    "## Frequency Distribution\n",
    "\n",
    "freq_dist = nltk.FreqDist(all_words)\n",
    "\n",
    "## Visualizing all the top 25 frequently used .\n",
    "\n",
    "plt.figure(figsize=(12,5))\n",
    "plt.title('Top 25 most common words')\n",
    "plt.xticks(fontsize=15)\n",
    "\n",
    "freq_dist.plot(25, cumulative=False)\n",
    "\n",
    "plt.show()"
   ]
  },
  {
   "cell_type": "markdown",
   "id": "0984b6de",
   "metadata": {},
   "source": [
    "## TF-IDF Vectorizer "
   ]
  },
  {
   "cell_type": "code",
   "execution_count": 56,
   "id": "6b6cbebe",
   "metadata": {},
   "outputs": [
    {
     "data": {
      "text/html": [
       "<div>\n",
       "<style scoped>\n",
       "    .dataframe tbody tr th:only-of-type {\n",
       "        vertical-align: middle;\n",
       "    }\n",
       "\n",
       "    .dataframe tbody tr th {\n",
       "        vertical-align: top;\n",
       "    }\n",
       "\n",
       "    .dataframe thead th {\n",
       "        text-align: right;\n",
       "    }\n",
       "</style>\n",
       "<table border=\"1\" class=\"dataframe\">\n",
       "  <thead>\n",
       "    <tr style=\"text-align: right;\">\n",
       "      <th></th>\n",
       "      <th>comment_text</th>\n",
       "      <th>toxic</th>\n",
       "      <th>cleaned_comments</th>\n",
       "    </tr>\n",
       "  </thead>\n",
       "  <tbody>\n",
       "    <tr>\n",
       "      <th>0</th>\n",
       "      <td>\"\\r\\n\\r\\n A barnstar for you! \\r\\n\\r\\n  The De...</td>\n",
       "      <td>0</td>\n",
       "      <td>barnstar defender barnstar like kayastha let f...</td>\n",
       "    </tr>\n",
       "    <tr>\n",
       "      <th>1</th>\n",
       "      <td>\"\\r\\n\\r\\nThis seems unbalanced.  whatever I ha...</td>\n",
       "      <td>0</td>\n",
       "      <td>unbalanced said mathsci said far extreme unple...</td>\n",
       "    </tr>\n",
       "    <tr>\n",
       "      <th>2</th>\n",
       "      <td>Marya Dzmitruk was born in Minsk, Belarus in M...</td>\n",
       "      <td>0</td>\n",
       "      <td>marya dzmitruk born minsk belarus march mother...</td>\n",
       "    </tr>\n",
       "    <tr>\n",
       "      <th>3</th>\n",
       "      <td>\"\\r\\n\\r\\nTalkback\\r\\n\\r\\n Dear Celestia...  \"</td>\n",
       "      <td>0</td>\n",
       "      <td>talkback dear celestia</td>\n",
       "    </tr>\n",
       "    <tr>\n",
       "      <th>4</th>\n",
       "      <td>New Categories \\r\\n\\r\\nI honestly think that w...</td>\n",
       "      <td>0</td>\n",
       "      <td>new category honestly think need add category ...</td>\n",
       "    </tr>\n",
       "  </tbody>\n",
       "</table>\n",
       "</div>"
      ],
      "text/plain": [
       "                                        comment_text  toxic  \\\n",
       "0  \"\\r\\n\\r\\n A barnstar for you! \\r\\n\\r\\n  The De...      0   \n",
       "1  \"\\r\\n\\r\\nThis seems unbalanced.  whatever I ha...      0   \n",
       "2  Marya Dzmitruk was born in Minsk, Belarus in M...      0   \n",
       "3      \"\\r\\n\\r\\nTalkback\\r\\n\\r\\n Dear Celestia...  \"      0   \n",
       "4  New Categories \\r\\n\\r\\nI honestly think that w...      0   \n",
       "\n",
       "                                    cleaned_comments  \n",
       "0  barnstar defender barnstar like kayastha let f...  \n",
       "1  unbalanced said mathsci said far extreme unple...  \n",
       "2  marya dzmitruk born minsk belarus march mother...  \n",
       "3                            talkback dear celestia   \n",
       "4  new category honestly think need add category ...  "
      ]
     },
     "execution_count": 56,
     "metadata": {},
     "output_type": "execute_result"
    }
   ],
   "source": [
    "### Viewing the data\n",
    "\n",
    "data.head()"
   ]
  },
  {
   "cell_type": "code",
   "execution_count": 57,
   "id": "8a5f479b",
   "metadata": {},
   "outputs": [],
   "source": [
    "### dividing the data into feaures and labels and splitting the data into train and test.\n",
    "\n",
    "X = data['cleaned_comments']\n",
    "y = data['toxic']\n",
    "\n",
    "X_train, X_test, y_train, y_test = train_test_split(X,y, test_size=0.30, stratify=data['toxic'], random_state=42)"
   ]
  },
  {
   "cell_type": "code",
   "execution_count": 58,
   "id": "24088ea4",
   "metadata": {},
   "outputs": [],
   "source": [
    "###  Initiating the vectorizer with 4000 maximum features and extracting features for X_train and X_test.\n",
    "\n",
    "Tf = TfidfVectorizer(max_features=4000)\n",
    "Tf_X_train = Tf.fit_transform(X_train)\n",
    "Tf_X_test=Tf.transform(X_test)"
   ]
  },
  {
   "cell_type": "code",
   "execution_count": 59,
   "id": "7eaeb004",
   "metadata": {},
   "outputs": [
    {
     "data": {
      "text/plain": [
       "(scipy.sparse.csr.csr_matrix,\n",
       " scipy.sparse.csr.csr_matrix,\n",
       " (3500, 4000),\n",
       " (1500, 4000))"
      ]
     },
     "execution_count": 59,
     "metadata": {},
     "output_type": "execute_result"
    }
   ],
   "source": [
    "## Viewig the type and size of both train and test feature matrix created .\n",
    "\n",
    "type(Tf_X_train),type(Tf_X_test),Tf_X_train.shape,Tf_X_test.shape"
   ]
  },
  {
   "cell_type": "markdown",
   "id": "e0e02c2d",
   "metadata": {},
   "source": [
    "##  Model Building "
   ]
  },
  {
   "cell_type": "code",
   "execution_count": 60,
   "id": "09bbd9b8",
   "metadata": {},
   "outputs": [
    {
     "data": {
      "text/plain": [
       "0    0.9126\n",
       "1    0.0874\n",
       "Name: toxic, dtype: float64"
      ]
     },
     "execution_count": 60,
     "metadata": {},
     "output_type": "execute_result"
    }
   ],
   "source": [
    "### viewing the ratio of 0's and 1's in given dataset.\n",
    "\n",
    "data['toxic'].value_counts(normalize=True)"
   ]
  },
  {
   "cell_type": "code",
   "execution_count": 61,
   "id": "c31c9ad8",
   "metadata": {},
   "outputs": [
    {
     "data": {
      "text/plain": [
       "0    0.912571\n",
       "1    0.087429\n",
       "Name: toxic, dtype: float64"
      ]
     },
     "execution_count": 61,
     "metadata": {},
     "output_type": "execute_result"
    }
   ],
   "source": [
    "### viewing the ratio of 0's and 1's in train set after split.\n",
    "\n",
    "y_train.value_counts(normalize=True)"
   ]
  },
  {
   "cell_type": "code",
   "execution_count": 62,
   "id": "fc9e2f97",
   "metadata": {
    "scrolled": true
   },
   "outputs": [
    {
     "data": {
      "text/plain": [
       "0    0.912667\n",
       "1    0.087333\n",
       "Name: toxic, dtype: float64"
      ]
     },
     "execution_count": 62,
     "metadata": {},
     "output_type": "execute_result"
    }
   ],
   "source": [
    "#### Viewing the split of 0's and 1's in test set after split. \n",
    "\n",
    "y_test.value_counts(normalize=True)"
   ]
  },
  {
   "cell_type": "code",
   "execution_count": 63,
   "id": "bd1fee45",
   "metadata": {},
   "outputs": [
    {
     "name": "stdout",
     "output_type": "stream",
     "text": [
      "Train Score : 0.994\n",
      "Test Score :  0.9473333333333334\n"
     ]
    }
   ],
   "source": [
    "### Train the a model using SVC algorithm .\n",
    "### LinearSVC performs better than SVC with linear kernel , eventough both of them have lineaar boundaries , so LinearSVC is\n",
    "### used for model building . \n",
    "\n",
    "clf = LinearSVC()\n",
    "clf.fit(Tf_X_train,y_train)\n",
    "print(\"Train Score :\",clf.score(Tf_X_train, y_train))\n",
    "print(\"Test Score : \",clf.score(Tf_X_test,y_test))"
   ]
  },
  {
   "cell_type": "code",
   "execution_count": 64,
   "id": "4a7624f6",
   "metadata": {},
   "outputs": [
    {
     "name": "stdout",
     "output_type": "stream",
     "text": [
      "Accuracy Score :  0.9473333333333334\n",
      "Recall Score :  0.8823529411764706\n",
      "F1_score :  0.6030150753768845\n"
     ]
    }
   ],
   "source": [
    "#### Making prediction for test and calculating metrics \n",
    "\n",
    "y_pred=clf.predict(Tf_X_test)\n",
    "print(\"Accuracy Score : \" ,accuracy_score(y_pred,y_test))\n",
    "print(\"Recall Score : \", recall_score(y_pred,y_test))\n",
    "print(\"F1_score : \" ,f1_score(y_pred,y_test))"
   ]
  },
  {
   "cell_type": "markdown",
   "id": "4bc2a75e",
   "metadata": {},
   "source": [
    "####  Here recall is high"
   ]
  },
  {
   "cell_type": "code",
   "execution_count": 65,
   "id": "2eee7164",
   "metadata": {},
   "outputs": [
    {
     "data": {
      "text/plain": [
       "<AxesSubplot:>"
      ]
     },
     "execution_count": 65,
     "metadata": {},
     "output_type": "execute_result"
    },
    {
     "data": {
      "image/png": "[encoded data removed]",
      "text/plain": [
       "<Figure size 432x288 with 1 Axes>"
      ]
     },
     "metadata": {
      "needs_background": "light"
     },
     "output_type": "display_data"
    }
   ],
   "source": [
    "# plot the toxic/non-toxic comment counts \n",
    "\n",
    "data['toxic'].value_counts().plot(kind='bar')"
   ]
  },
  {
   "cell_type": "code",
   "execution_count": 66,
   "id": "b36f0035",
   "metadata": {},
   "outputs": [
    {
     "name": "stdout",
     "output_type": "stream",
     "text": [
      "Train Score : 0.992\n",
      "Test Score :  0.9306666666666666\n"
     ]
    }
   ],
   "source": [
    "### Training an model using SVC Classifier with class_weight balanced option since there is class imbalance in the dataset .\n",
    "\n",
    "clf2 = LinearSVC(class_weight='balanced')\n",
    "clf2.fit(Tf_X_train,y_train)\n",
    "print(\"Train Score :\",clf2.score(Tf_X_train, y_train))\n",
    "print(\"Test Score : \",clf2.score(Tf_X_test,y_test))\n",
    "\n"
   ]
  },
  {
   "cell_type": "code",
   "execution_count": 67,
   "id": "5c65d592",
   "metadata": {},
   "outputs": [
    {
     "name": "stdout",
     "output_type": "stream",
     "text": [
      "Accuracy Score :  0.9306666666666666\n",
      "Recall Score :  0.6115702479338843\n",
      "F1_score :  0.5873015873015873\n"
     ]
    }
   ],
   "source": [
    "#### Making prediction for test and calculating metrics \n",
    "\n",
    "y_pred=clf2.predict(Tf_X_test)\n",
    "print(\"Accuracy Score : \" ,accuracy_score(y_pred,y_test))\n",
    "print(\"Recall Score : \", recall_score(y_pred,y_test))\n",
    "print(\"F1_score : \" ,f1_score(y_pred,y_test))"
   ]
  },
  {
   "cell_type": "markdown",
   "id": "d87e8458",
   "metadata": {},
   "source": [
    "#### Here the recall is not so high as 'clf' model"
   ]
  },
  {
   "cell_type": "code",
   "execution_count": 68,
   "id": "0490e869",
   "metadata": {},
   "outputs": [],
   "source": [
    "### Appending train feature set and test feature set \n",
    "\n",
    "X = sp.vstack((Tf_X_train,Tf_X_test))  "
   ]
  },
  {
   "cell_type": "code",
   "execution_count": 69,
   "id": "ba34451b",
   "metadata": {},
   "outputs": [
    {
     "name": "stdout",
     "output_type": "stream",
     "text": [
      "Fitting 5 folds for each of 20 candidates, totalling 100 fits\n"
     ]
    }
   ],
   "source": [
    "## Hyper parameter tuning of the clf2 model\n",
    "\n",
    "\n",
    "C_values = np.arange(0.00001, 1, 0.05) # 20 values\n",
    "\n",
    "kfold = StratifiedKFold(n_splits=5, shuffle=True, random_state=42)\n",
    "grid = GridSearchCV(estimator=clf2, param_grid={'C': C_values}, cv=kfold, \\\n",
    "                    return_train_score=True, verbose=2, n_jobs=-1)\n",
    "grid_results = grid.fit(X,y)"
   ]
  },
  {
   "cell_type": "code",
   "execution_count": 70,
   "id": "1acc1b62",
   "metadata": {},
   "outputs": [
    {
     "data": {
      "text/plain": [
       "GridSearchCV(cv=StratifiedKFold(n_splits=5, random_state=42, shuffle=True),\n",
       "             estimator=LinearSVC(class_weight='balanced'), n_jobs=-1,\n",
       "             param_grid={'C': array([1.0000e-05, 5.0010e-02, 1.0001e-01, 1.5001e-01, 2.0001e-01,\n",
       "       2.5001e-01, 3.0001e-01, 3.5001e-01, 4.0001e-01, 4.5001e-01,\n",
       "       5.0001e-01, 5.5001e-01, 6.0001e-01, 6.5001e-01, 7.0001e-01,\n",
       "       7.5001e-01, 8.0001e-01, 8.5001e-01, 9.0001e-01, 9.5001e-01])},\n",
       "             return_train_score=True, verbose=2)"
      ]
     },
     "execution_count": 70,
     "metadata": {},
     "output_type": "execute_result"
    }
   ],
   "source": [
    "### Viewing the results \n",
    "\n",
    "grid_results"
   ]
  },
  {
   "cell_type": "code",
   "execution_count": 71,
   "id": "b9900b5c",
   "metadata": {},
   "outputs": [
    {
     "data": {
      "text/plain": [
       "({'C': 0.95001}, 0.8178000000000001, 19)"
      ]
     },
     "execution_count": 71,
     "metadata": {},
     "output_type": "execute_result"
    }
   ],
   "source": [
    "### Viewing the best parameter . \n",
    "\n",
    "grid_results.best_params_, grid_results.best_score_, grid_results.best_index_"
   ]
  },
  {
   "cell_type": "code",
   "execution_count": 72,
   "id": "a57d1d43",
   "metadata": {},
   "outputs": [
    {
     "name": "stdout",
     "output_type": "stream",
     "text": [
      "Train Score : 0.9917142857142857\n",
      "Test Score :  0.9306666666666666\n",
      "Accuracy Score :  0.9306666666666666\n",
      "Recall Score :  0.6115702479338843\n",
      "F1_score :  0.5873015873015873\n"
     ]
    }
   ],
   "source": [
    "### Finding the best estimator using cross validation and best parameter identified above using 'recall' as scoring method .\n",
    "\n",
    "\n",
    "clf3 = LinearSVC(class_weight='balanced', C=0.95)\n",
    "\n",
    "results = cross_validate(clf3,X,y , cv=kfold, scoring='recall')\n",
    "\n",
    "clf3.fit(Tf_X_train,y_train)\n",
    "\n",
    "y_pred=clf3.predict(Tf_X_test)\n",
    "\n",
    "print(\"Train Score :\",clf3.score(Tf_X_train, y_train))\n",
    "print(\"Test Score : \",clf3.score(Tf_X_test,y_test))\n",
    "print(\"Accuracy Score : \" ,accuracy_score(y_pred,y_test))\n",
    "print(\"Recall Score : \", recall_score(y_pred,y_test))\n",
    "print(\"F1_score : \" ,f1_score(y_pred,y_test))"
   ]
  },
  {
   "cell_type": "markdown",
   "id": "0146b12d",
   "metadata": {},
   "source": [
    "#### Here the recall score is not so high as 'clf' model,its same as of 'clf2' model"
   ]
  },
  {
   "cell_type": "code",
   "execution_count": 73,
   "id": "b9c851f3",
   "metadata": {},
   "outputs": [
    {
     "name": "stdout",
     "output_type": "stream",
     "text": [
      "Train Score : 0.9917142857142857\n",
      "Test Score :  0.9306666666666666\n",
      "Accuracy Score :  0.9306666666666666\n",
      "Recall Score :  0.6115702479338843\n",
      "F1_score :  0.5873015873015873\n"
     ]
    }
   ],
   "source": [
    "##### Creating a pipeline , so that all the steps in model building can be done without any dataleakage .\n",
    "\n",
    "X = data['cleaned_comments']\n",
    "y = data['toxic']\n",
    "\n",
    "Tf = TfidfVectorizer(max_features=4000)\n",
    "clf4 = LinearSVC(class_weight='balanced', C=0.95)\n",
    "kfold = StratifiedKFold(n_splits=5, shuffle=True, random_state=42)\n",
    "X_train, X_test, y_train, y_test = train_test_split(X,y, test_size=0.30, stratify=data['toxic'], random_state=42)\n",
    "\n",
    "CV_pipe = Pipeline([('Tf', Tf) , ('clf4', clf4)] )\n",
    "\n",
    "results = cross_val_score(CV_pipe, X, y, cv=kfold, scoring='recall')\n",
    "\n",
    "\n",
    "CV_pipe.fit(X_train,y_train)\n",
    "\n",
    "### making predictions for test set using pipeline created and calculating all the metrics .\n",
    "\n",
    "y_pred=CV_pipe.predict(X_test)\n",
    "\n",
    "print(\"Train Score :\",CV_pipe.score(X_train, y_train))\n",
    "print(\"Test Score : \",CV_pipe.score(X_test,y_test))\n",
    "print(\"Accuracy Score : \" ,accuracy_score(y_pred,y_test))\n",
    "print(\"Recall Score : \", recall_score(y_pred,y_test))\n",
    "print(\"F1_score : \" ,f1_score(y_pred,y_test))\n"
   ]
  },
  {
   "cell_type": "markdown",
   "id": "3c067aef",
   "metadata": {},
   "source": [
    "#### Here the recall score is not so high as 'clf' model,its same as of 'clf2' model and 'clf3' model"
   ]
  },
  {
   "cell_type": "code",
   "execution_count": 74,
   "id": "5b2ab5cd",
   "metadata": {},
   "outputs": [],
   "source": [
    "#### creating a DataFrame which contains test comments set and its predictions made by the model \n",
    "\n",
    "df = pd.DataFrame()\n",
    "df['comments_test'] = X_test\n",
    "df['comment'] = y_pred"
   ]
  },
  {
   "cell_type": "code",
   "execution_count": 75,
   "id": "5a118eab",
   "metadata": {},
   "outputs": [],
   "source": [
    "### setting the index for the created dataframe.\n",
    "\n",
    "id_values = np.arange(1, 1501, 1)\n",
    "df.set_index(id_values,inplace=True)"
   ]
  },
  {
   "cell_type": "code",
   "execution_count": 76,
   "id": "cba50601",
   "metadata": {},
   "outputs": [],
   "source": [
    "### creating the temporary dataframe which contains only toxic comments.\n",
    "\n",
    "temp_df = df[df['comment'] == 1]['comments_test']"
   ]
  },
  {
   "cell_type": "code",
   "execution_count": 77,
   "id": "817b4743",
   "metadata": {},
   "outputs": [
    {
     "name": "stdout",
     "output_type": "stream",
     "text": [
      "['halo', 'glitch', 'make', 'halo', 'glitch', 'like', 'glitch', 'high', 'charity', 'begin', 'level', 'bullet', 'covenant', 'carbine', 'maximum', 'bullet', 'carbine', 'redneck', 'bad', 'mouth', 'nascar', 'think', 'god', 'site', 'act', 'like', 'nazi', 'masterbate', 'hand', 'stroking', 'unit', 'think', 'block', 'work', 'better', 'god', 'stupid', 'deletion', 'hey', 'delete', 'mofo', 'psychological', 'problem', 'advice', 'dude', 'looking', 'extensive', 'history', 'want', 'share']\n"
     ]
    },
    {
     "data": {
      "text/plain": [
       "957"
      ]
     },
     "execution_count": 77,
     "metadata": {},
     "output_type": "execute_result"
    }
   ],
   "source": [
    "### creating a list of all words present in the toxic comments .\n",
    "\n",
    "all_words = []\n",
    "for t in temp_df:\n",
    "    all_words.extend(t.split())\n",
    "\n",
    "print(all_words[:50])\n",
    "len(set(all_words))  ### total number of words presents in all toxic comments ."
   ]
  },
  {
   "cell_type": "code",
   "execution_count": 78,
   "id": "d65cb3a8",
   "metadata": {
    "scrolled": true
   },
   "outputs": [
    {
     "data": {
      "image/png": "[encoded data removed]",
      "text/plain": [
       "<Figure size 864x360 with 1 Axes>"
      ]
     },
     "metadata": {
      "needs_background": "light"
     },
     "output_type": "display_data"
    }
   ],
   "source": [
    "## Frequency Distribution\n",
    "\n",
    "freq_dist = nltk.FreqDist(all_words)\n",
    "\n",
    "## Visualizing all the top 25 frequently used .\n",
    "\n",
    "plt.figure(figsize=(12,5))\n",
    "plt.title('Top 25 most common words')\n",
    "plt.xticks(fontsize=15)\n",
    "\n",
    "freq_dist.plot(25, cumulative=False)\n",
    "\n",
    "plt.show()"
   ]
  },
  {
   "cell_type": "code",
   "execution_count": null,
   "id": "87414676",
   "metadata": {},
   "outputs": [],
   "source": []
  }
 ],
 "metadata": {
  "kernelspec": {
   "display_name": "Python 3 (ipykernel)",
   "language": "python",
   "name": "python3"
  },
  "language_info": {
   "codemirror_mode": {
    "name": "ipython",
    "version": 3
   },
   "file_extension": ".py",
   "mimetype": "text/x-python",
   "name": "python",
   "nbconvert_exporter": "python",
   "pygments_lexer": "ipython3",
   "version": "3.9.7"
  }
 },
 "nbformat": 4,
 "nbformat_minor": 5
}
